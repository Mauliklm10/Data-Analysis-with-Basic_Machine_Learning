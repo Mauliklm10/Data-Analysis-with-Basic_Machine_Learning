{
 "cells": [
  {
   "cell_type": "code",
   "execution_count": 1,
   "id": "4a99430e",
   "metadata": {},
   "outputs": [],
   "source": [
    "import numpy as np"
   ]
  },
  {
   "cell_type": "code",
   "execution_count": 2,
   "id": "6899a788",
   "metadata": {},
   "outputs": [],
   "source": [
    "A = np.array([3, 6, 9])\n",
    "B = np.array([21, 24, 27])\n",
    "C = np.array([[5, 6, 7], [8, 9, 10], [100, 101, 102]])"
   ]
  },
  {
   "cell_type": "code",
   "execution_count": 3,
   "id": "c7cd3cd2",
   "metadata": {},
   "outputs": [],
   "source": [
    "mul_arr = np.multiply(A, B) "
   ]
  },
  {
   "cell_type": "code",
   "execution_count": 4,
   "id": "f61242b1",
   "metadata": {},
   "outputs": [
    {
     "name": "stdout",
     "output_type": "stream",
     "text": [
      "Resultant output array:  [ 63 144 243]\n"
     ]
    }
   ],
   "source": [
    "print(\"Resultant output array: \", mul_arr)"
   ]
  },
  {
   "cell_type": "code",
   "execution_count": 27,
   "id": "020876c1",
   "metadata": {},
   "outputs": [
    {
     "name": "stdout",
     "output_type": "stream",
     "text": [
      "7 10 102\n"
     ]
    }
   ],
   "source": [
    "print(C[0,-1],C[1,-1],C[2,-1])"
   ]
  },
  {
   "cell_type": "code",
   "execution_count": 31,
   "id": "fa880a27",
   "metadata": {},
   "outputs": [
    {
     "name": "stdout",
     "output_type": "stream",
     "text": [
      "[[3 6 9]]\n"
     ]
    }
   ],
   "source": [
    "A1 = A.reshape(1, 3)\n",
    "print(A1)"
   ]
  },
  {
   "cell_type": "code",
   "execution_count": null,
   "id": "a8060f9b",
   "metadata": {},
   "outputs": [],
   "source": []
  }
 ],
 "metadata": {
  "kernelspec": {
   "display_name": "Python 3",
   "language": "python",
   "name": "python3"
  },
  "language_info": {
   "codemirror_mode": {
    "name": "ipython",
    "version": 3
   },
   "file_extension": ".py",
   "mimetype": "text/x-python",
   "name": "python",
   "nbconvert_exporter": "python",
   "pygments_lexer": "ipython3",
   "version": "3.8.8"
  }
 },
 "nbformat": 4,
 "nbformat_minor": 5
}
