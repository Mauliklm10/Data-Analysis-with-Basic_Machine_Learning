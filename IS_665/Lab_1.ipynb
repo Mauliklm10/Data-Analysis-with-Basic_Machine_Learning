{
 "cells": [
  {
   "cell_type": "code",
   "execution_count": 1,
   "id": "8b84250f",
   "metadata": {},
   "outputs": [],
   "source": [
    "i = \"Hello, My name is Maulik and I am a senior at NJIT\""
   ]
  },
  {
   "cell_type": "code",
   "execution_count": 2,
   "id": "e2e82303",
   "metadata": {},
   "outputs": [
    {
     "name": "stdout",
     "output_type": "stream",
     "text": [
      "Hello, My name is Maulik and I am a senior at NJIT\n"
     ]
    }
   ],
   "source": [
    "print(i)"
   ]
  },
  {
   "cell_type": "code",
   "execution_count": 14,
   "id": "fa3a4a48",
   "metadata": {},
   "outputs": [],
   "source": [
    "def lab1 (a, b, c, d, e):\n",
    "    return a + b + c + d + e"
   ]
  },
  {
   "cell_type": "code",
   "execution_count": 15,
   "id": "2df91ee7",
   "metadata": {},
   "outputs": [
    {
     "name": "stdout",
     "output_type": "stream",
     "text": [
      "MaulikMarylandIS665BlackPatel\n"
     ]
    }
   ],
   "source": [
    "result = lab1(\"Maulik\", \"Maryland\", \"IS665\", \"Black\", \"Patel\")\n",
    "print(result)"
   ]
  },
  {
   "cell_type": "code",
   "execution_count": null,
   "id": "a2d75a8c",
   "metadata": {},
   "outputs": [],
   "source": []
  }
 ],
 "metadata": {
  "kernelspec": {
   "display_name": "Python 3",
   "language": "python",
   "name": "python3"
  },
  "language_info": {
   "codemirror_mode": {
    "name": "ipython",
    "version": 3
   },
   "file_extension": ".py",
   "mimetype": "text/x-python",
   "name": "python",
   "nbconvert_exporter": "python",
   "pygments_lexer": "ipython3",
   "version": "3.8.8"
  }
 },
 "nbformat": 4,
 "nbformat_minor": 5
}
