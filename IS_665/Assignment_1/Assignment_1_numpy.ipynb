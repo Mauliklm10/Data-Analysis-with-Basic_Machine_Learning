{
 "cells": [
  {
   "cell_type": "markdown",
   "id": "9ed0e064",
   "metadata": {},
   "source": [
    "# NumPy Exercises \n"
   ]
  },
  {
   "cell_type": "markdown",
   "id": "0b5ecfb5",
   "metadata": {},
   "source": [
    "## Defining an array\n"
   ]
  },
  {
   "cell_type": "markdown",
   "id": "12a6a1db",
   "metadata": {},
   "source": [
    "#### Import NumPy as np"
   ]
  },
  {
   "cell_type": "code",
   "execution_count": 2,
   "id": "8251a2b2",
   "metadata": {},
   "outputs": [],
   "source": [
    "import numpy as np"
   ]
  },
  {
   "cell_type": "markdown",
   "id": "ac318a06",
   "metadata": {},
   "source": [
    "#### Create an array of 10 zeros "
   ]
  },
  {
   "cell_type": "code",
   "execution_count": 4,
   "id": "9cc8691c",
   "metadata": {},
   "outputs": [
    {
     "name": "stdout",
     "output_type": "stream",
     "text": [
      "[0. 0. 0. 0. 0. 0. 0. 0. 0. 0.]\n"
     ]
    }
   ],
   "source": [
    "A=np.zeros(10)\n",
    "print(A)"
   ]
  },
  {
   "cell_type": "markdown",
   "id": "cd346f79",
   "metadata": {},
   "source": [
    "#### Create an array of 10 ones"
   ]
  },
  {
   "cell_type": "code",
   "execution_count": 5,
   "id": "f9ec6352",
   "metadata": {},
   "outputs": [
    {
     "name": "stdout",
     "output_type": "stream",
     "text": [
      "[1. 1. 1. 1. 1. 1. 1. 1. 1. 1.]\n"
     ]
    }
   ],
   "source": [
    "B=np.ones(10)\n",
    "print(B)"
   ]
  },
  {
   "cell_type": "markdown",
   "id": "2d183200",
   "metadata": {},
   "source": [
    "#### Create an array of 10 tens"
   ]
  },
  {
   "cell_type": "code",
   "execution_count": 6,
   "id": "594e9352",
   "metadata": {},
   "outputs": [
    {
     "name": "stdout",
     "output_type": "stream",
     "text": [
      "[10. 10. 10. 10. 10. 10. 10. 10. 10. 10.]\n"
     ]
    }
   ],
   "source": [
    "C=np.ones(10)*10\n",
    "print(C)"
   ]
  },
  {
   "cell_type": "markdown",
   "id": "08f8f90c",
   "metadata": {},
   "source": [
    "#### Create an array of the integers from 10 to 100"
   ]
  },
  {
   "cell_type": "code",
   "execution_count": 10,
   "id": "8c00ccee",
   "metadata": {},
   "outputs": [
    {
     "name": "stdout",
     "output_type": "stream",
     "text": [
      "[10 11 12 13 14 15 16 17 18 19 20 21 22 23 24 25 26 27 28 29 30 31 32 33\n",
      " 34 35 36 37 38 39 40 41 42 43 44 45 46 47 48 49 50 51 52 53 54 55 56 57\n",
      " 58 59 60 61 62 63 64 65 66 67 68 69 70 71 72 73 74 75 76 77 78 79 80 81\n",
      " 82 83 84 85 86 87 88 89 90 91 92 93 94 95 96 97 98 99]\n"
     ]
    }
   ],
   "source": [
    "D=np.arange(10,100)\n",
    "print(D)"
   ]
  },
  {
   "cell_type": "markdown",
   "id": "88011589",
   "metadata": {},
   "source": [
    "#### Create an array of all the odd integers from 10 to 30"
   ]
  },
  {
   "cell_type": "code",
   "execution_count": 18,
   "id": "565d6197",
   "metadata": {},
   "outputs": [
    {
     "name": "stdout",
     "output_type": "stream",
     "text": [
      "[11 13 15 17 19 21 23 25 27 29]\n"
     ]
    }
   ],
   "source": [
    "E=np.arange(10,30)\n",
    "F=(E[E%2==1])\n",
    "print(F)"
   ]
  },
  {
   "cell_type": "markdown",
   "id": "1e27567d",
   "metadata": {},
   "source": [
    "#### Create a 3x3 array with values ranging from 0 to 8 "
   ]
  },
  {
   "cell_type": "code",
   "execution_count": 7,
   "id": "0b72e864",
   "metadata": {},
   "outputs": [
    {
     "name": "stdout",
     "output_type": "stream",
     "text": [
      "[[0 1 2]\n",
      " [3 4 5]\n",
      " [6 7 8]]\n"
     ]
    }
   ],
   "source": [
    "G=np.arange(0,9).reshape(3,3)\n",
    "print(G)"
   ]
  },
  {
   "cell_type": "markdown",
   "id": "4d440f90",
   "metadata": {},
   "source": [
    "#### Create an array of 25 random numbers between 0 and 1"
   ]
  },
  {
   "cell_type": "code",
   "execution_count": 23,
   "id": "e1b62c9b",
   "metadata": {},
   "outputs": [
    {
     "name": "stdout",
     "output_type": "stream",
     "text": [
      "[-0.01873792  1.47170638  0.32362276  0.82895517 -1.10154864  0.76774908\n",
      "  0.08411526 -0.03737778 -0.01201761  2.07189989  1.09043669 -0.23536384\n",
      " -1.17154317 -0.4691732  -0.66244839  0.27394238 -1.71712413 -0.77652361\n",
      " -0.85222032  1.32800099  0.42436589 -0.17265564 -1.58570357 -1.19265631\n",
      " -0.10478624]\n"
     ]
    }
   ],
   "source": [
    "H=np.random.normal(0,1,25)\n",
    "print(H)"
   ]
  },
  {
   "cell_type": "markdown",
   "id": "be707864",
   "metadata": {},
   "source": [
    "#### Create an array of 40 linearly spaced points between 0 and 10:"
   ]
  },
  {
   "cell_type": "code",
   "execution_count": 24,
   "id": "4f8a1afd",
   "metadata": {},
   "outputs": [
    {
     "name": "stdout",
     "output_type": "stream",
     "text": [
      "[ 0.          0.25641026  0.51282051  0.76923077  1.02564103  1.28205128\n",
      "  1.53846154  1.79487179  2.05128205  2.30769231  2.56410256  2.82051282\n",
      "  3.07692308  3.33333333  3.58974359  3.84615385  4.1025641   4.35897436\n",
      "  4.61538462  4.87179487  5.12820513  5.38461538  5.64102564  5.8974359\n",
      "  6.15384615  6.41025641  6.66666667  6.92307692  7.17948718  7.43589744\n",
      "  7.69230769  7.94871795  8.20512821  8.46153846  8.71794872  8.97435897\n",
      "  9.23076923  9.48717949  9.74358974 10.        ]\n"
     ]
    }
   ],
   "source": [
    "I=np.linspace(0, 10, 40)\n",
    "print(I)"
   ]
  },
  {
   "cell_type": "markdown",
   "id": "4a897f9a",
   "metadata": {},
   "source": [
    "## Indexing \n"
   ]
  },
  {
   "cell_type": "code",
   "execution_count": 3,
   "id": "de2180f9",
   "metadata": {},
   "outputs": [
    {
     "data": {
      "text/plain": [
       "array([[ 1,  2,  3,  4,  5,  6],\n",
       "       [ 7,  8,  9, 10, 11, 12],\n",
       "       [13, 14, 15, 16, 17, 18],\n",
       "       [19, 20, 21, 22, 23, 24]])"
      ]
     },
     "execution_count": 3,
     "metadata": {},
     "output_type": "execute_result"
    }
   ],
   "source": [
    "#You are given the following 2D array\n",
    "a = np.arange(1,25).reshape(4,-1)\n",
    "a"
   ]
  },
  {
   "cell_type": "code",
   "execution_count": 24,
   "id": "94db9aab",
   "metadata": {},
   "outputs": [
    {
     "name": "stdout",
     "output_type": "stream",
     "text": [
      "[[ 9 10 11 12]\n",
      " [15 16 17 18]\n",
      " [21 22 23 24]]\n"
     ]
    }
   ],
   "source": [
    "# Use array indexing to select the subset that contains 9,10,11,12,15,16,17,18,21,22,23,24. \n",
    "# In other words, the 3 * 4 sub-matrix in the bottom right corner of your array\n",
    "# I have shown you the output -- be careful, if you run your code, it is going to \"wipe out\" my output\n",
    "slice = a[1:4,2:6]\n",
    "print(slice)"
   ]
  },
  {
   "cell_type": "code",
   "execution_count": 30,
   "id": "d5e81023",
   "metadata": {},
   "outputs": [
    {
     "name": "stdout",
     "output_type": "stream",
     "text": [
      "20\n"
     ]
    }
   ],
   "source": [
    "# Use array indexing  get the value 20, as my output shows\n",
    "print(a[3,1])"
   ]
  },
  {
   "cell_type": "code",
   "execution_count": 47,
   "id": "88d6833f",
   "metadata": {},
   "outputs": [
    {
     "name": "stdout",
     "output_type": "stream",
     "text": [
      "[[10]\n",
      " [16]\n",
      " [22]]\n"
     ]
    }
   ],
   "source": [
    "# Use array indexing  get the column 10, 16, 22, as my output shows\n",
    "slice = a[1:4,3:4]\n",
    "print(slice)"
   ]
  },
  {
   "cell_type": "code",
   "execution_count": 50,
   "id": "b1e44077",
   "metadata": {},
   "outputs": [
    {
     "name": "stdout",
     "output_type": "stream",
     "text": [
      "[[15 16 17]]\n"
     ]
    }
   ],
   "source": [
    "# Use array indexing  get the row [15,16,17] as my output shows\n",
    "slice = a[2:3,2:5]\n",
    "print(slice)"
   ]
  },
  {
   "cell_type": "markdown",
   "id": "8d12a9a1",
   "metadata": {},
   "source": [
    "### Now the hard task!"
   ]
  },
  {
   "cell_type": "markdown",
   "id": "b915cbad",
   "metadata": {},
   "source": [
    "#### Write a function that gives the users four random integers between 1 and 10 and ask them to enter the square number of them. If the user answers all of them correctly, congratulate them. Otherwise, show them the right answer"
   ]
  },
  {
   "cell_type": "code",
   "execution_count": 1,
   "id": "e496903a",
   "metadata": {},
   "outputs": [],
   "source": [
    "# Step 0: Import numpy -- ALWAYS import all the libraries you need at the beginning!\n",
    "import numpy as np\n",
    "import random\n",
    "#Step 1: Function creation -- refer to the last lab for the syntax of function creation\n",
    "# does our function take parameters?\n",
    "# Create your function here:\n"
   ]
  },
  {
   "cell_type": "code",
   "execution_count": 10,
   "id": "f88f4c65",
   "metadata": {},
   "outputs": [],
   "source": [
    "#Step 2: Create an array of four random integers between 1 and 10 \n",
    "num_arr=np.random.randint(1,10,4)"
   ]
  },
  {
   "cell_type": "code",
   "execution_count": 12,
   "id": "1a821e01",
   "metadata": {},
   "outputs": [
    {
     "name": "stdout",
     "output_type": "stream",
     "text": [
      "[2 3 5 1]\n"
     ]
    }
   ],
   "source": [
    "#Step 3: Print your numbers\n",
    "print(num_arr)"
   ]
  },
  {
   "cell_type": "code",
   "execution_count": 13,
   "id": "39c53565",
   "metadata": {},
   "outputs": [
    {
     "name": "stdout",
     "output_type": "stream",
     "text": [
      "Enter values\n",
      "3\n",
      "5\n",
      "4\n",
      "8\n"
     ]
    }
   ],
   "source": [
    "#Step 4: Prompt the user to enter four numbers, ONE AT A TIME. Use a loop to store these four numbers in a new array\n",
    "#  HINT 1: We could take all four numbers in through one line, but to practice loop, let's do it the hard way\n",
    "#  HINT 2: You can start by creating an empty array -- np.array([]), then appending to it one at a time\n",
    "#  HINT 3: Remember, input() only returns STRINGS. You need to turn them into integers\n",
    "sq_arr=np.square(num_arr)\n",
    "print(\"Enter values\")\n",
    "guess=np.array([])\n",
    "a=4\n",
    "for i in range(a):\n",
    "    b=int(input())\n",
    "    guess= np.append(guess,b)"
   ]
  },
  {
   "cell_type": "code",
   "execution_count": 14,
   "id": "043bff2f",
   "metadata": {},
   "outputs": [
    {
     "name": "stdout",
     "output_type": "stream",
     "text": [
      "The right values are:\n",
      "[ 4  9 25  1]\n"
     ]
    }
   ],
   "source": [
    "#Step 5: Now that you have the two arrays, you can compare them using array functions and decide whether the answers are correct\n",
    "#  HINT 4: To compare two arrays, you can use array1 == array2 -- however, you have to use a variable to hold the result\n",
    "#          The resulted array is an array of Boolean values. To quickly check whether it contains true value, you might want to\n",
    "#          use the all() or any() function...\n",
    "if (sq_arr==guess).all():\n",
    "    print(\"Congratulations\")\n",
    "elif (sq_arr!= guess).any():\n",
    "    print(\"The right values are:\")\n",
    "    print(sq_arr)"
   ]
  },
  {
   "cell_type": "code",
   "execution_count": null,
   "id": "c9d72710",
   "metadata": {},
   "outputs": [],
   "source": []
  }
 ],
 "metadata": {
  "kernelspec": {
   "display_name": "Python 3",
   "language": "python",
   "name": "python3"
  },
  "language_info": {
   "codemirror_mode": {
    "name": "ipython",
    "version": 3
   },
   "file_extension": ".py",
   "mimetype": "text/x-python",
   "name": "python",
   "nbconvert_exporter": "python",
   "pygments_lexer": "ipython3",
   "version": "3.8.8"
  }
 },
 "nbformat": 4,
 "nbformat_minor": 5
}
